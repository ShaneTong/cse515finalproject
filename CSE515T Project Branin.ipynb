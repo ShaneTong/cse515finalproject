{
 "cells": [
  {
   "cell_type": "code",
   "execution_count": 1,
   "metadata": {},
   "outputs": [],
   "source": [
    "import gpflow as gp\n",
    "import numpy as np\n",
    "import pandas as pd\n",
    "from gpflow.utilities import print_summary\n",
    "import matplotlib.pyplot as plt\n",
    "import tensorflow as tf"
   ]
  },
  {
   "cell_type": "code",
   "execution_count": 2,
   "metadata": {},
   "outputs": [],
   "source": [
    "data = pd.read_csv('32branin.csv')"
   ]
  },
  {
   "cell_type": "code",
   "execution_count": 3,
   "metadata": {},
   "outputs": [
    {
     "name": "stdout",
     "output_type": "stream",
     "text": [
      "         X1        X2         y\n",
      "0  -5.00000   0.00000  308.1300\n",
      "1   2.50000   7.50000   24.1300\n",
      "2  -1.25000  11.25000   22.3830\n",
      "3   6.25000   3.75000   26.6240\n",
      "4  -3.12500   9.37500    8.5797\n",
      "5   4.37500   1.87500    6.9550\n",
      "6   0.62500   5.62500   18.1110\n",
      "7   8.12500  13.12500  140.3300\n",
      "8  -4.06250  14.06200    4.4762\n",
      "9   3.43750   6.56250   21.1280\n",
      "10 -0.31250   2.81250   32.8080\n",
      "11  7.18750  10.31200   98.3480\n",
      "12 -2.18750   4.68750   33.7380\n",
      "13  5.31250  12.18800  136.3500\n",
      "14  1.56250   8.43750   31.3220\n",
      "15  9.06250   0.93750    2.5808\n",
      "16 -4.53120   7.96880   70.6080\n",
      "17  2.96880   0.46875    4.3236\n",
      "18 -0.78125   4.21880   26.4500\n",
      "19  6.71880  11.71900  130.6500\n",
      "20 -2.65620   2.34380   78.8640\n",
      "21  4.84380   9.84380   83.8810\n",
      "22  1.09380  13.59400   98.6810\n",
      "23  8.59380   6.09380   21.4240\n",
      "24 -3.59380   7.03120   41.7720\n",
      "25  3.90620  14.53100  166.3200\n",
      "26  0.15625  10.78100   44.7540\n",
      "27  7.65620   3.28120   15.4730\n",
      "28 -1.71880  12.65600   21.1100\n",
      "29  5.78120   5.15620   34.7370\n",
      "30  2.03120   1.40620    9.3202\n",
      "31  9.53120   8.90620   40.6480\n"
     ]
    }
   ],
   "source": [
    "print(data)"
   ]
  },
  {
   "cell_type": "code",
   "execution_count": 13,
   "metadata": {},
   "outputs": [],
   "source": [
    "#format X and y\n",
    "X = np.array(data.values[:,:2]).reshape(32,2)\n",
    "y = np.array(data.values[:,2]).reshape(32,1)\n",
    "#kernel & mean\n",
    "k = gp.kernels.SquaredExponential()\n",
    "mean = gp.mean_functions.Zero()"
   ]
  },
  {
   "cell_type": "code",
   "execution_count": 14,
   "metadata": {},
   "outputs": [],
   "source": [
    "m1 = gp.models.GPR(data=(X,y), kernel = k, mean_function=mean, noise_variance=0.001)"
   ]
  },
  {
   "cell_type": "code",
   "execution_count": 15,
   "metadata": {},
   "outputs": [
    {
     "name": "stdout",
     "output_type": "stream",
     "text": [
      "name                     class      transform    trainable    shape    dtype      value\n",
      "-----------------------  ---------  -----------  -----------  -------  -------  -------\n",
      "GPR.kernel.variance      Parameter  Softplus     True         ()       float64    1\n",
      "GPR.kernel.lengthscale   Parameter  Softplus     True         ()       float64    1\n",
      "GPR.likelihood.variance  Parameter  Softplus     True         ()       float64    0.001\n",
      "tf.Tensor(-102246.16724543413, shape=(), dtype=float64)\n"
     ]
    }
   ],
   "source": [
    "print_summary(m1)\n",
    "print(m1.log_marginal_likelihood())"
   ]
  },
  {
   "cell_type": "code",
   "execution_count": 50,
   "metadata": {},
   "outputs": [
    {
     "name": "stdout",
     "output_type": "stream",
     "text": [
      "Model fitting on y\n",
      "Model parameters:\n",
      "name                     class      transform    trainable    shape    dtype          value\n",
      "-----------------------  ---------  -----------  -----------  -------  -------  -----------\n",
      "GPR.kernel.variance      Parameter  Softplus     True         ()       float64  336215\n",
      "GPR.kernel.lengthscale   Parameter  Softplus     True         ()       float64      12.505\n",
      "GPR.likelihood.variance  Parameter  Softplus     True         ()       float64      65.7582\n",
      "\n",
      "Log marginal likelihood is:\n",
      "tf.Tensor(-147.56672218714675, shape=(), dtype=float64)\n"
     ]
    }
   ],
   "source": [
    "print(\"Model fitting on y\")\n",
    "print(\"Model parameters:\")\n",
    "opt = gp.optimizers.Scipy()\n",
    "\n",
    "def objective_closure():\n",
    "    return - m1.log_marginal_likelihood()\n",
    "\n",
    "opt_logs = opt.minimize(objective_closure,\n",
    "                        m1.trainable_variables,\n",
    "                        options=dict(maxiter=100))\n",
    "print_summary(m1)\n",
    "print(\"\")\n",
    "print(\"Log marginal likelihood is:\")\n",
    "print(m1.log_marginal_likelihood())"
   ]
  },
  {
   "cell_type": "code",
   "execution_count": 17,
   "metadata": {},
   "outputs": [
    {
     "name": "stdout",
     "output_type": "stream",
     "text": [
      "tf.Tensor(-147.56672218714675, shape=(), dtype=float64)\n"
     ]
    }
   ],
   "source": []
  },
  {
   "cell_type": "code",
   "execution_count": 18,
   "metadata": {},
   "outputs": [],
   "source": [
    "x1 = np.linspace(-5, 10, 50).reshape(50,1)\n",
    "x2 = np.linspace(0, 15, 50).reshape(50,1)\n",
    "# y = []\n",
    "# for i in x1:\n",
    "#     y_i = []\n",
    "#     for j in x2:\n",
    "#         #y_i.append(m1.predict_f(np.array([i,j]).reshape(1,2)))\n",
    "#         print(m1.predict_f(np.array([i,j]).reshape(1,2))[0].numpy()[0][0])\n",
    "#     y.append(y_i)\n",
    "y_plot = [[m1.predict_f(np.array([i,j]).reshape(1,2))[0].numpy()[0][0] for j in x2] for i in x1]\n"
   ]
  },
  {
   "cell_type": "code",
   "execution_count": 19,
   "metadata": {},
   "outputs": [],
   "source": [
    "y_plot_2 = [[m1.predict_f(np.array([i,j]).reshape(1,2))[1].numpy()[0][0] for j in x2] for i in x1]"
   ]
  },
  {
   "cell_type": "code",
   "execution_count": 42,
   "metadata": {},
   "outputs": [
    {
     "data": {
      "image/png": "[encoded data removed]",
      "text/plain": [
       "<Figure size 432x288 with 2 Axes>"
      ]
     },
     "metadata": {
      "needs_background": "light"
     },
     "output_type": "display_data"
    },
    {
     "data": {
      "image/png": "[encoded data removed]",
      "text/plain": [
       "<Figure size 432x288 with 2 Axes>"
      ]
     },
     "metadata": {
      "needs_background": "light"
     },
     "output_type": "display_data"
    }
   ],
   "source": [
    "fig, ax = plt.subplots()\n",
    "im = ax.imshow(y_plot, cmap='hot')\n",
    "ax.set_xticks(np.arange(0,50,50/3))\n",
    "ax.set_xticklabels(np.arange(-5,10,5))\n",
    "ax.set_yticks(np.arange(0,50,50/3))\n",
    "ax.set_yticklabels(np.arange(0,15,5))\n",
    "plt.colorbar(im)\n",
    "plt.savefig('before_transform_posterior_mean.png')\n",
    "fig2, ax2 = plt.subplots()\n",
    "im2 = ax2.imshow(y_plot_2, cmap='hot')\n",
    "ax.set_xticks(np.arange(0,50,50/3))\n",
    "ax.set_xticklabels(np.arange(-5,10,5))\n",
    "ax.set_yticks(np.arange(0,50,50/3))\n",
    "ax.set_yticklabels(np.arange(0,15,5))\n",
    "plt.colorbar(im2)\n",
    "plt.savefig('before_transform_std.png')"
   ]
  },
  {
   "cell_type": "code",
   "execution_count": 48,
   "metadata": {},
   "outputs": [
    {
     "name": "stdout",
     "output_type": "stream",
     "text": [
      "Model fitting on log_y\n",
      "Model parameters:\n",
      "name                     class      transform    trainable    shape    dtype           value\n",
      "-----------------------  ---------  -----------  -----------  -------  -------  ------------\n",
      "GPR.kernel.variance      Parameter  Softplus     True         ()       float64  10.8362\n",
      "GPR.kernel.lengthscale   Parameter  Softplus     True         ()       float64   4.02648\n",
      "GPR.likelihood.variance  Parameter  Softplus     True         ()       float64   0.000316487\n",
      "\n",
      "Log marginal likelihood is:\n",
      "tf.Tensor(-33.8660255070385, shape=(), dtype=float64)\n"
     ]
    }
   ],
   "source": [
    "print(\"Model fitting on log_y\")\n",
    "print(\"Model parameters:\")\n",
    "y_log = np.log(y)\n",
    "m_log = gp.models.GPR(data=(X,y_log), kernel = gp.kernels.SquaredExponential(), mean_function=gp.mean_functions.Zero(), noise_variance=0.001)\n",
    "opt = gp.optimizers.Scipy()\n",
    "\n",
    "def objective_closure():\n",
    "    return - m_log.log_marginal_likelihood()\n",
    "\n",
    "opt_logs = opt.minimize(objective_closure,\n",
    "                        m_log.trainable_variables,\n",
    "                        options=dict(maxiter=100))\n",
    "print_summary(m_log)\n",
    "print(\"\")\n",
    "print(\"Log marginal likelihood is:\")\n",
    "print(m_log.log_marginal_likelihood())"
   ]
  },
  {
   "cell_type": "code",
   "execution_count": 32,
   "metadata": {},
   "outputs": [],
   "source": [
    "y_plot_log = [[m_log.predict_f(np.array([i,j]).reshape(1,2))[0].numpy()[0][0] for j in x2] for i in x1]\n",
    "y_plot_2_log = [[m_log.predict_f(np.array([i,j]).reshape(1,2))[1].numpy()[0][0] for j in x2] for i in x1]"
   ]
  },
  {
   "cell_type": "code",
   "execution_count": 43,
   "metadata": {},
   "outputs": [
    {
     "data": {
      "image/png": "[encoded data removed]",
      "text/plain": [
       "<Figure size 432x288 with 2 Axes>"
      ]
     },
     "metadata": {
      "needs_background": "light"
     },
     "output_type": "display_data"
    },
    {
     "data": {
      "image/png": "[encoded data removed]",
      "text/plain": [
       "<Figure size 432x288 with 2 Axes>"
      ]
     },
     "metadata": {
      "needs_background": "light"
     },
     "output_type": "display_data"
    }
   ],
   "source": [
    "fig_log, ax_log = plt.subplots()\n",
    "im_log = ax_log.imshow(y_plot_log, cmap='hot')\n",
    "ax_log.set_xticks(np.arange(0,50,50/3))\n",
    "ax_log.set_xticklabels(np.arange(-5,10,5))\n",
    "ax_log.set_yticks(np.arange(0,50,50/3))\n",
    "ax_log.set_yticklabels(np.arange(0,15,5))\n",
    "plt.colorbar(im_log)\n",
    "plt.savefig('after_transform_posterior_mean.png')\n",
    "fig2_log, ax2_log = plt.subplots()\n",
    "im2_log = ax2_log.imshow(y_plot_2_log, cmap='hot')\n",
    "ax2_log.set_xticks(np.arange(0,50,50/3))\n",
    "ax2_log.set_xticklabels(np.arange(-5,10,5))\n",
    "ax2_log.set_yticks(np.arange(0,50,50/3))\n",
    "ax2_log.set_yticklabels(np.arange(0,15,5))\n",
    "plt.colorbar(im2_log)\n",
    "plt.savefig('after_transform_std.png')"
   ]
  },
  {
   "cell_type": "code",
   "execution_count": 40,
   "metadata": {},
   "outputs": [
    {
     "name": "stdout",
     "output_type": "stream",
     "text": [
      "The best model found have kernel: \n",
      "<gpflow.kernels.stationaries.Matern12 object at 0x104a04deb8>\n",
      "and mean function: \n",
      "<gpflow.mean_functions.Identity object at 0x1046722278>\n",
      "The BIC score for the model is: \n",
      "tf.Tensor(231.15696375035148, shape=(), dtype=float64)\n"
     ]
    }
   ],
   "source": [
    "kernel_list = [gp.kernels.SquaredExponential(), \n",
    "               gp.kernels.Matern12(), \n",
    "               gp.kernels.Matern32(),\n",
    "               gp.kernels.Matern52(),\n",
    "               gp.kernels.RationalQuadratic(),\n",
    "               gp.kernels.ArcCosine()]\n",
    "mean_list = [gp.mean_functions.Zero(),\n",
    "        gp.mean_functions.Constant(),\n",
    "            gp.mean_functions.Identity()]\n",
    "model_evidence_search = []\n",
    "def objective_closure_bic():\n",
    "    return tf.constant(3*np.log(32))- 2*m_opt.log_marginal_likelihood()\n",
    "for i in kernel_list:\n",
    "    for j in mean_list:\n",
    "        #print(i)\n",
    "        m_opt = gp.models.GPR(data=(X,y_log), kernel = i, mean_function=j, noise_variance=0.001)\n",
    "        opt = gp.optimizers.Scipy()\n",
    "        opt_logs = opt.minimize(objective_closure_bic,\n",
    "                                m_opt.trainable_variables,\n",
    "                                options=dict(maxiter=100))\n",
    "        model_evidence_search.append(objective_closure_bic())\n",
    "\n",
    "min_model_index = np.argmax(model_evidence_search)\n",
    "print(\"The best model found have kernel: \")\n",
    "print(kernel_list[int(min_model_index/3)])\n",
    "print(\"and mean function: \")\n",
    "print(mean_list[min_model_index%3])\n",
    "print(\"The BIC score for the model is: \")\n",
    "print(model_evidence_search[min_model_index])"
   ]
  },
  {
   "cell_type": "code",
   "execution_count": 34,
   "metadata": {},
   "outputs": [],
   "source": [
    "import csv"
   ]
  },
  {
   "cell_type": "code",
   "execution_count": 37,
   "metadata": {},
   "outputs": [
    {
     "ename": "NameError",
     "evalue": "name 'close' is not defined",
     "output_type": "error",
     "traceback": [
      "\u001b[0;31m---------------------------------------------------------------------------\u001b[0m",
      "\u001b[0;31mNameError\u001b[0m                                 Traceback (most recent call last)",
      "\u001b[0;32m<ipython-input-37-d9bb1e8b29c1>\u001b[0m in \u001b[0;36m<module>\u001b[0;34m\u001b[0m\n\u001b[1;32m      2\u001b[0m     \u001b[0mcsvWriter\u001b[0m \u001b[0;34m=\u001b[0m \u001b[0mcsv\u001b[0m\u001b[0;34m.\u001b[0m\u001b[0mwriter\u001b[0m\u001b[0;34m(\u001b[0m\u001b[0mmyfile\u001b[0m\u001b[0;34m,\u001b[0m \u001b[0mdelimiter\u001b[0m\u001b[0;34m=\u001b[0m\u001b[0;34m','\u001b[0m\u001b[0;34m)\u001b[0m\u001b[0;34m\u001b[0m\u001b[0;34m\u001b[0m\u001b[0m\n\u001b[1;32m      3\u001b[0m     \u001b[0mcsvWriter\u001b[0m\u001b[0;34m.\u001b[0m\u001b[0mwriterows\u001b[0m\u001b[0;34m(\u001b[0m\u001b[0my_plot\u001b[0m\u001b[0;34m)\u001b[0m\u001b[0;34m\u001b[0m\u001b[0;34m\u001b[0m\u001b[0m\n\u001b[0;32m----> 4\u001b[0;31m \u001b[0mclose\u001b[0m\u001b[0;34m(\u001b[0m\u001b[0mmyfile\u001b[0m\u001b[0;34m)\u001b[0m\u001b[0;34m\u001b[0m\u001b[0;34m\u001b[0m\u001b[0m\n\u001b[0m",
      "\u001b[0;31mNameError\u001b[0m: name 'close' is not defined"
     ]
    }
   ],
   "source": [
    "with open('before_log_transform.csv', 'w+') as myfile:\n",
    "    csvWriter = csv.writer(myfile, delimiter=',')\n",
    "    csvWriter.writerows(y_plot)"
   ]
  },
  {
   "cell_type": "code",
   "execution_count": 38,
   "metadata": {},
   "outputs": [],
   "source": [
    "with open('after_log_transform.csv', 'w+') as myfile:\n",
    "    csvWriter = csv.writer(myfile, delimiter=',')\n",
    "    csvWriter.writerows(y_plot_log)"
   ]
  },
  {
   "cell_type": "code",
   "execution_count": null,
   "metadata": {},
   "outputs": [],
   "source": []
  }
 ],
 "metadata": {
  "kernelspec": {
   "display_name": "Python 3",
   "language": "python",
   "name": "python3"
  },
  "language_info": {
   "codemirror_mode": {
    "name": "ipython",
    "version": 3
   },
   "file_extension": ".py",
   "mimetype": "text/x-python",
   "name": "python",
   "nbconvert_exporter": "python",
   "pygments_lexer": "ipython3",
   "version": "3.7.3"
  }
 },
 "nbformat": 4,
 "nbformat_minor": 2
}

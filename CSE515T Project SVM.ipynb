{
 "cells": [
  {
   "cell_type": "code",
   "execution_count": 50,
   "metadata": {},
   "outputs": [],
   "source": [
    "import gpflow as gp\n",
    "import numpy as np\n",
    "import pandas as pd\n",
    "from gpflow.utilities import print_summary\n",
    "import matplotlib.pyplot as plt\n",
    "import random\n",
    "import tensorflow as tf"
   ]
  },
  {
   "cell_type": "code",
   "execution_count": 32,
   "metadata": {},
   "outputs": [],
   "source": [
    "data = pd.read_csv('svm.csv')"
   ]
  },
  {
   "cell_type": "code",
   "execution_count": 44,
   "metadata": {},
   "outputs": [],
   "source": [
    "random.seed(0)\n",
    "sample_index = random.sample(range(len(data)),32)"
   ]
  },
  {
   "cell_type": "code",
   "execution_count": 45,
   "metadata": {},
   "outputs": [
    {
     "name": "stdout",
     "output_type": "stream",
     "text": [
      "[788, 861, 82, 530, 1047, 995, 829, 621, 976, 733, 1194, 447, 1033, 285, 577, 286, 194, 1266, 513, 1090, 1232, 300, 635, 202, 151, 676, 966, 1146, 206, 724, 889, 647]\n"
     ]
    }
   ],
   "source": [
    "print(sample_index)"
   ]
  },
  {
   "cell_type": "code",
   "execution_count": 59,
   "metadata": {},
   "outputs": [
    {
     "name": "stdout",
     "output_type": "stream",
     "text": [
      "[[0.286]\n",
      " [0.286]\n",
      " [0.261]\n",
      " [0.281]\n",
      " [0.271]\n",
      " [0.279]\n",
      " [0.5  ]\n",
      " [0.5  ]\n",
      " [0.269]\n",
      " [0.268]\n",
      " [0.265]\n",
      " [0.267]\n",
      " [0.422]\n",
      " [0.281]\n",
      " [0.241]\n",
      " [0.263]\n",
      " [0.478]\n",
      " [0.275]\n",
      " [0.281]\n",
      " [0.268]\n",
      " [0.293]\n",
      " [0.272]\n",
      " [0.265]\n",
      " [0.28 ]\n",
      " [0.408]\n",
      " [0.275]\n",
      " [0.266]\n",
      " [0.265]\n",
      " [0.271]\n",
      " [0.255]\n",
      " [0.4  ]\n",
      " [0.281]]\n"
     ]
    }
   ],
   "source": [
    "X = np.array([data.values[i,:3] for i in sample_index])\n",
    "y = np.array([data.values[i,3] for i in sample_index]).reshape(32,1)\n",
    "print(y)"
   ]
  },
  {
   "cell_type": "code",
   "execution_count": 60,
   "metadata": {},
   "outputs": [],
   "source": [
    "c = np.linspace(0,1,101)\n",
    "model_evidence = []\n",
    "k = gp.kernels.SquaredExponential()\n",
    "def objective_closure():\n",
    "    return tf.subtract(tf.constant(3*np.log(32)), tf.math.scalar_mul(2,m1.log_marginal_likelihood()))\n",
    "for i in c:\n",
    "    mean = gp.mean_functions.Constant(i)\n",
    "    m1 = gp.models.GPR(data=(X,y), kernel = k, mean_function=mean, noise_variance=0.001)\n",
    "    opt = gp.optimizers.Scipy()\n",
    "    opt_logs = opt.minimize(objective_closure,\n",
    "                            m1.trainable_variables,\n",
    "                            options=dict(maxiter=100))\n",
    "    model_evidence.append(m1.log_marginal_likelihood())"
   ]
  },
  {
   "cell_type": "code",
   "execution_count": 61,
   "metadata": {},
   "outputs": [
    {
     "name": "stdout",
     "output_type": "stream",
     "text": [
      "tf.Tensor(-100.99765146500502, shape=(), dtype=float64)\n"
     ]
    },
    {
     "data": {
      "image/png": "[encoded data removed]",
      "text/plain": [
       "<Figure size 432x288 with 1 Axes>"
      ]
     },
     "metadata": {
      "needs_background": "light"
     },
     "output_type": "display_data"
    }
   ],
   "source": [
    "plt.plot(c, model_evidence)\n",
    "print(objective_closure())"
   ]
  },
  {
   "cell_type": "code",
   "execution_count": 66,
   "metadata": {},
   "outputs": [
    {
     "name": "stdout",
     "output_type": "stream",
     "text": [
      "The best model found have kernel: \n",
      "<gpflow.kernels.stationaries.Matern12 object at 0x1033941fd0>\n",
      "and mean function: \n",
      "<gpflow.mean_functions.Constant object at 0x10339fb898>\n",
      "The BIC score for the model is: \n",
      "tf.Tensor(48.90056092272807, shape=(), dtype=float64)\n"
     ]
    }
   ],
   "source": [
    "y_log = np.log(y)\n",
    "kernel_list = [gp.kernels.SquaredExponential(), \n",
    "               gp.kernels.Matern12(), \n",
    "               gp.kernels.Matern32(),\n",
    "               gp.kernels.Matern52(),\n",
    "               gp.kernels.RationalQuadratic(),\n",
    "               gp.kernels.ArcCosine()]\n",
    "mean_list = [gp.mean_functions.Zero(),\n",
    "        gp.mean_functions.Constant()]\n",
    "model_evidence_search = []\n",
    "def objective_closure_bic():\n",
    "    return tf.constant(3*np.log(32))- 2*m1.log_marginal_likelihood()\n",
    "for i in kernel_list:\n",
    "    for j in mean_list:\n",
    "        #print(i)\n",
    "        m1 = gp.models.GPR(data=(X,y_log), kernel = i, mean_function=j, noise_variance=0.001)\n",
    "        opt = gp.optimizers.Scipy()\n",
    "        opt_logs = opt.minimize(objective_closure_bic,\n",
    "                                m1.trainable_variables,\n",
    "                                options=dict(maxiter=100))\n",
    "        model_evidence_search.append(objective_closure_bic())\n",
    "\n",
    "min_model_index = np.argmax(model_evidence_search)\n",
    "print(\"The best model found have kernel: \")\n",
    "print(kernel_list[int(min_model_index/3)])\n",
    "print(\"and mean function: \")\n",
    "print(mean_list[min_model_index%3])\n",
    "print(\"The BIC score for the model is: \")\n",
    "print(model_evidence_search[min_model_index])"
   ]
  },
  {
   "cell_type": "code",
   "execution_count": null,
   "metadata": {},
   "outputs": [],
   "source": []
  }
 ],
 "metadata": {
  "kernelspec": {
   "display_name": "Python 3",
   "language": "python",
   "name": "python3"
  },
  "language_info": {
   "codemirror_mode": {
    "name": "ipython",
    "version": 3
   },
   "file_extension": ".py",
   "mimetype": "text/x-python",
   "name": "python",
   "nbconvert_exporter": "python",
   "pygments_lexer": "ipython3",
   "version": "3.7.3"
  }
 },
 "nbformat": 4,
 "nbformat_minor": 2
}

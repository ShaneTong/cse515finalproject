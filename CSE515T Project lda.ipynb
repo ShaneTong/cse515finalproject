{
 "cells": [
  {
   "cell_type": "code",
   "execution_count": 1,
   "metadata": {},
   "outputs": [],
   "source": [
    "import gpflow as gp\n",
    "import numpy as np\n",
    "import pandas as pd\n",
    "from gpflow.utilities import print_summary\n",
    "import matplotlib.pyplot as plt\n",
    "import random\n",
    "import tensorflow as tf"
   ]
  },
  {
   "cell_type": "code",
   "execution_count": 2,
   "metadata": {},
   "outputs": [],
   "source": [
    "data = pd.read_csv('lda.csv')"
   ]
  },
  {
   "cell_type": "code",
   "execution_count": 3,
   "metadata": {},
   "outputs": [],
   "source": [
    "random.seed(0)\n",
    "sample_index = random.sample(range(len(data)),32)"
   ]
  },
  {
   "cell_type": "code",
   "execution_count": 4,
   "metadata": {},
   "outputs": [
    {
     "name": "stdout",
     "output_type": "stream",
     "text": [
      "[197, 215, 20, 132, 261, 248, 207, 155, 244, 183, 111, 258, 71, 144, 48, 128, 272, 75, 158, 50, 37, 169, 241, 286, 51, 181, 222, 161, 104, 282, 226, 266]\n"
     ]
    }
   ],
   "source": [
    "print(sample_index)"
   ]
  },
  {
   "cell_type": "code",
   "execution_count": 43,
   "metadata": {},
   "outputs": [
    {
     "name": "stdout",
     "output_type": "stream",
     "text": [
      "[[1270.]\n",
      " [1440.]\n",
      " [2800.]\n",
      " [1310.]\n",
      " [3480.]\n",
      " [1630.]\n",
      " [1300.]\n",
      " [2240.]\n",
      " [1380.]\n",
      " [1620.]\n",
      " [2010.]\n",
      " [1690.]\n",
      " [1570.]\n",
      " [2090.]\n",
      " [3050.]\n",
      " [1650.]\n",
      " [1940.]\n",
      " [1710.]\n",
      " [1300.]\n",
      " [1290.]\n",
      " [2600.]\n",
      " [1350.]\n",
      " [2350.]\n",
      " [1750.]\n",
      " [1720.]\n",
      " [1590.]\n",
      " [2710.]\n",
      " [3620.]\n",
      " [1270.]\n",
      " [1290.]\n",
      " [1840.]\n",
      " [1970.]]\n"
     ]
    }
   ],
   "source": [
    "X = np.array([data.values[i,:3] for i in sample_index])\n",
    "y = np.array([data.values[i,3] for i in sample_index]).reshape(32,1)\n",
    "print(y)"
   ]
  },
  {
   "cell_type": "code",
   "execution_count": 61,
   "metadata": {},
   "outputs": [],
   "source": [
    "c = np.linspace(1000,1500,100)\n",
    "model_evidence = []\n",
    "k = gp.kernels.SquaredExponential()\n",
    "def objective_closure():\n",
    "     return tf.subtract(tf.constant(3*np.log(32)), tf.math.scalar_mul(2,m1.log_marginal_likelihood()))\n",
    "     #return -tf.math.scalar_mul(2,m1.log_marginal_likelihood())\n",
    "for i in c:\n",
    "    mean = gp.mean_functions.Constant(i)\n",
    "    m1 = gp.models.GPR(data=(X,y), kernel = k, mean_function=mean, noise_variance=0.001)\n",
    "    opt = gp.optimizers.Scipy()\n",
    "    opt_logs = opt.minimize(objective_closure,\n",
    "                            m1.trainable_variables,\n",
    "                            options=dict(maxiter=100))\n",
    "    model_evidence.append(m1.log_marginal_likelihood())"
   ]
  },
  {
   "cell_type": "code",
   "execution_count": 62,
   "metadata": {},
   "outputs": [
    {
     "data": {
      "text/plain": [
       "[<matplotlib.lines.Line2D at 0x1032716a58>]"
      ]
     },
     "execution_count": 62,
     "metadata": {},
     "output_type": "execute_result"
    },
    {
     "data": {
      "image/png": "[encoded data removed]",
      "text/plain": [
       "<Figure size 432x288 with 1 Axes>"
      ]
     },
     "metadata": {
      "needs_background": "light"
     },
     "output_type": "display_data"
    }
   ],
   "source": [
    "plt.plot(c, model_evidence)"
   ]
  },
  {
   "cell_type": "code",
   "execution_count": 67,
   "metadata": {},
   "outputs": [
    {
     "name": "stdout",
     "output_type": "stream",
     "text": [
      "<gpflow.kernels.stationaries.SquaredExponential object at 0x10345d4358>\n",
      "<gpflow.kernels.stationaries.SquaredExponential object at 0x10345d4358>\n",
      "<gpflow.kernels.stationaries.Matern32 object at 0x10345d4438>\n",
      "<gpflow.kernels.stationaries.Matern32 object at 0x10345d4438>\n",
      "<gpflow.kernels.stationaries.Matern52 object at 0x10327a0630>\n",
      "<gpflow.kernels.stationaries.Matern52 object at 0x10327a0630>\n",
      "<gpflow.kernels.stationaries.RationalQuadratic object at 0x1032609780>\n",
      "<gpflow.kernels.stationaries.RationalQuadratic object at 0x1032609780>\n",
      "<gpflow.kernels.misc.ArcCosine object at 0x1032363048>\n",
      "<gpflow.kernels.misc.ArcCosine object at 0x1032363048>\n",
      "The best model found have kernel: \n",
      "<gpflow.kernels.stationaries.Matern32 object at 0x10345d4438>\n",
      "and mean function: \n",
      "<gpflow.mean_functions.Constant object at 0x1032677908>\n",
      "The BIC score for the model is: \n",
      "tf.Tensor(123.35116659660801, shape=(), dtype=float64)\n"
     ]
    }
   ],
   "source": [
    "y_log = np.log(y)\n",
    "kernel_list = [gp.kernels.SquaredExponential(), \n",
    "               gp.kernels.Matern32(),\n",
    "               gp.kernels.Matern52(),\n",
    "               gp.kernels.RationalQuadratic(),\n",
    "               gp.kernels.ArcCosine()]\n",
    "mean_list = [gp.mean_functions.Zero(),\n",
    "        gp.mean_functions.Constant()]\n",
    "model_evidence_search = []\n",
    "def objective_closure_bic():\n",
    "    return tf.constant(3*np.log(32))- 2*m1.log_marginal_likelihood()\n",
    "for i in kernel_list:\n",
    "    for j in mean_list:\n",
    "        print(i)\n",
    "        m1 = gp.models.GPR(data=(X,y_log), kernel = i, mean_function=j, noise_variance=0.001)\n",
    "        opt = gp.optimizers.Scipy()\n",
    "        opt_logs = opt.minimize(objective_closure_bic,\n",
    "                                m1.trainable_variables,\n",
    "                                options=dict(maxiter=100))\n",
    "        model_evidence_search.append(objective_closure_bic())\n",
    "\n",
    "min_model_index = np.argmax(model_evidence_search)\n",
    "print(\"The best model found have kernel: \")\n",
    "print(kernel_list[int(min_model_index/3)])\n",
    "print(\"and mean function: \")\n",
    "print(mean_list[min_model_index%3])\n",
    "print(\"The BIC score for the model is: \")\n",
    "print(model_evidence_search[min_model_index])"
   ]
  },
  {
   "cell_type": "code",
   "execution_count": null,
   "metadata": {},
   "outputs": [],
   "source": []
  }
 ],
 "metadata": {
  "kernelspec": {
   "display_name": "Python 3",
   "language": "python",
   "name": "python3"
  },
  "language_info": {
   "codemirror_mode": {
    "name": "ipython",
    "version": 3
   },
   "file_extension": ".py",
   "mimetype": "text/x-python",
   "name": "python",
   "nbconvert_exporter": "python",
   "pygments_lexer": "ipython3",
   "version": "3.7.3"
  }
 },
 "nbformat": 4,
 "nbformat_minor": 2
}
